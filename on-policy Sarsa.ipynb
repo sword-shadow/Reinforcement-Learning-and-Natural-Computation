{
 "cells": [
  {
   "cell_type": "code",
   "execution_count": 4,
   "id": "57eec736",
   "metadata": {},
   "outputs": [],
   "source": [
    "import time\n",
    "import random\n",
    "import numpy as np\n",
    "import matplotlib.pyplot as plt"
   ]
  },
  {
   "cell_type": "code",
   "execution_count": 140,
   "id": "703870f4",
   "metadata": {},
   "outputs": [],
   "source": [
    "class Sarsa:\n",
    "    def __init__(self, h, w, wind, start, des, noise=False):\n",
    "        # init Q, wind, A\n",
    "        self.h = h\n",
    "        self.w = w\n",
    "        # if no stop action, change 9 to 8 in self.q and self.e_greedy(), change self.actions\n",
    "        self.q = np.random.rand(h, w, 9)\n",
    "        self.wind = wind\n",
    "        self.actions = [[i, j] for i in [-1, 0, 1] for j in [-1, 0, 1]]\n",
    "        self.start = start\n",
    "        self.des = des\n",
    "        self.noise = noise\n",
    "    \n",
    "    def policy_loop(self, num_iters, alpha=0.5, epsilon=0.1, gamma=1, reward=-1):\n",
    "        # set Q of destination zero\n",
    "        self.q[self.des[0], self.des[1], :] = 0\n",
    "        # show the progress\n",
    "        start_ = time.time()\n",
    "        # count the steps of episodes\n",
    "        steps = 0\n",
    "        # big loop\n",
    "        for num in range(num_iters):\n",
    "            if (num % 1000 == 0):\n",
    "                end_ = time.time()\n",
    "                print(f\"Big loop {num}: {round(num / num_iters * 100, 2)} %   cost {round(end_ - start_, 2)} s\")\n",
    "                start_ = time.time()\n",
    "            # init start point\n",
    "            state = self.start\n",
    "            index = self.e_greedy(state, epsilon)\n",
    "            while True:\n",
    "                # epsilon-greedy\n",
    "                v1, v2 = self.actions[index]\n",
    "                i = np.clip(state[0] + v1, 0, self.h - 1)\n",
    "                j = np.clip(state[1] + v2, 0, self.w - 1)\n",
    "                next_state = (np.clip(i - self.wind[j] + np.random.choice([-1, 0, 1]), 0, self.h - 1), j) if self.noise else \\\n",
    "                             (np.clip(i - self.wind[j], 0, self.h - 1), j)\n",
    "                next_index = self.e_greedy(next_state, epsilon)\n",
    "                self.q[state[0], state[1], index] += alpha * (reward + \\\n",
    "                                                              gamma * self.q[next_state[0], next_state[1], next_index] - \\\n",
    "                                                              self.q[state[0], state[1], index])\n",
    "                state = next_state\n",
    "                index = next_index\n",
    "                steps += 1\n",
    "                if state == self.des:\n",
    "                    break\n",
    "        print(\"Done!\")\n",
    "        # average step\n",
    "        print(f\"mean step of an episode: {round(steps / num_iters, 2)}\")\n",
    "        \n",
    "    def show_policy(self):\n",
    "        state = self.start\n",
    "        index = np.argmax(self.q[state[0], state[1], :])\n",
    "        states = []\n",
    "        while True:\n",
    "            states.append(state)\n",
    "            # optimal strategy\n",
    "            v1, v2 = self.actions[index]\n",
    "            i = np.clip(state[0] + v1, 0, self.h - 1)\n",
    "            j = np.clip(state[1] + v2, 0, self.w - 1)\n",
    "            next_state = (np.clip(i - self.wind[j] + np.random.choice([-1, 0, 1]), 0, self.h - 1), j) if self.noise else \\\n",
    "                             (np.clip(i - self.wind[j], 0, self.h - 1), j)\n",
    "            next_index = np.argmax(self.q[next_state[0], next_state[1], :])\n",
    "            state = next_state\n",
    "            if not self.noise and state in states:\n",
    "                break\n",
    "            index = next_index\n",
    "            if state == self.des:\n",
    "                break\n",
    "        \n",
    "        # plot the line\n",
    "        plt.figure()\n",
    "        plt.scatter(states[0][1] + 0.5, states[0][0] + 0.5, c=\"black\")\n",
    "        for i in np.arange(1, len(states)):\n",
    "            plt.plot((states[i - 1][1] + 0.5, states[i][1] + 0.5), (states[i - 1][0] + 0.5, states[i][0] + 0.5), \"black\")\n",
    "            plt.scatter(states[i][1] + 0.5, states[i][0] + 0.5, c=\"black\")\n",
    "        plt.grid()\n",
    "        plt.xticks(np.arange(0, self.w))\n",
    "        plt.yticks(np.arange(0, self.h))\n",
    "        plt.ylim(self.h, 0)\n",
    "        plt.show()\n",
    "        \n",
    "    def e_greedy(self, state, epsilon):\n",
    "        index = -1\n",
    "        if np.random.choice([0, 1], p=[epsilon, 1 - epsilon]):\n",
    "            index = np.argmax(self.q[state[0], state[1], :])\n",
    "        else:\n",
    "            index = np.random.choice(9)\n",
    "        return index\n",
    "            \n",
    "    \n",
    "    def reset(self):\n",
    "        self.__init__()"
   ]
  },
  {
   "cell_type": "code",
   "execution_count": 129,
   "id": "4f972e43",
   "metadata": {},
   "outputs": [
    {
     "name": "stdout",
     "output_type": "stream",
     "text": [
      "Big loop 0: 0.0 %   cost 0.0 s\n",
      "Big loop 1000: 12.5 %   cost 0.76 s\n",
      "Big loop 2000: 25.0 %   cost 0.48 s\n",
      "Big loop 3000: 37.5 %   cost 0.48 s\n",
      "Big loop 4000: 50.0 %   cost 0.47 s\n",
      "Big loop 5000: 62.5 %   cost 0.48 s\n",
      "Big loop 6000: 75.0 %   cost 0.48 s\n",
      "Big loop 7000: 87.5 %   cost 0.46 s\n",
      "Done!\n",
      "mean step of an episode: 18.79\n"
     ]
    },
    {
     "data": {
      "image/png": "[encoded data removed]",
      "text/plain": [
       "<Figure size 432x288 with 1 Axes>"
      ]
     },
     "metadata": {
      "needs_background": "light"
     },
     "output_type": "display_data"
    }
   ],
   "source": [
    "if __name__ == \"__main__\":\n",
    "    wind = [0, 0, 0, 1, 1, 1, 2, 2, 1, 0]\n",
    "    s = Sarsa(6, 10, wind, (3, 0), (3, 7))\n",
    "    s.policy_loop(8000)\n",
    "    s.show_policy()\n",
    "    \n",
    "    \"\"\"\n",
    "    # noise condition\n",
    "    wind = [0, 0, 0, 1, 1, 1, 2, 2, 1, 0]\n",
    "    s = Sarsa(6, 10, wind, (3, 0), (3, 7), noise=True)\n",
    "    s.policy_loop(8000)\n",
    "    s.show_policy()\n",
    "    \"\"\""
   ]
  }
 ],
 "metadata": {
  "kernelspec": {
   "display_name": "Python 3 (ipykernel)",
   "language": "python",
   "name": "python3"
  },
  "language_info": {
   "codemirror_mode": {
    "name": "ipython",
    "version": 3
   },
   "file_extension": ".py",
   "mimetype": "text/x-python",
   "name": "python",
   "nbconvert_exporter": "python",
   "pygments_lexer": "ipython3",
   "version": "3.9.7"
  }
 },
 "nbformat": 4,
 "nbformat_minor": 5
}
