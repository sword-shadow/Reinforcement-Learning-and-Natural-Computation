{
 "cells": [
  {
   "cell_type": "code",
   "execution_count": 1,
   "id": "026c632f",
   "metadata": {},
   "outputs": [],
   "source": [
    "import numpy as np\n",
    "import matplotlib.pyplot as plt"
   ]
  },
  {
   "cell_type": "code",
   "execution_count": 2,
   "id": "bf3e8843",
   "metadata": {},
   "outputs": [],
   "source": [
    "class GEDA:\n",
    "    def __init__(self, init_state, alpha=0.5, k=2):\n",
    "        self.state = init_state\n",
    "        # init params\n",
    "        self.mu = init_state.mean(axis = 0)\n",
    "        self.n = init_state.shape[0]\n",
    "        self.m = init_state.shape[1]\n",
    "        self.sigma = np.sqrt(((init_state - init_state.mean(axis = 0)) ** 2).sum(axis = 0) / self.n)\n",
    "        self.alpha = alpha\n",
    "        self.topk = k\n",
    "    \n",
    "    def loop(self, func):\n",
    "        # choose the k best fitness indexes\n",
    "        fit = np.apply_along_axis(func, 1, self.state)\n",
    "        # round to 0.01 \n",
    "        fit = np.apply_along_axis(lambda x: np.round(x, 2), 0, fit)\n",
    "        fit_sorted = sorted(range(len(fit)), key=lambda i: fit[i])\n",
    "        indexes = fit_sorted[-self.topk:]\n",
    "        # update params\n",
    "        self.mu = (1 - self.alpha) * self.mu + \\\n",
    "                   self.alpha * (self.state[fit_sorted[-1]] + self.state[fit_sorted[-2]] - self.state[fit_sorted[0]])\n",
    "        topk_state = self.state[indexes]\n",
    "        self.sigma = (1 - self.alpha) * self.sigma + \\\n",
    "                   self.alpha * np.sqrt(((topk_state - topk_state.mean(axis = 0)) ** 2).sum(axis = 0) / self.topk)\n",
    "        # round to 0.1\n",
    "        self.mu = np.apply_along_axis(lambda x: np.round(x, 1), 0, self.mu)\n",
    "        self.sigma = np.apply_along_axis(lambda x: np.round(x, 1), 0, self.sigma)\n",
    "        # resample \n",
    "        self.state = np.zeros_like(self.state)\n",
    "        for i in range(self.m):\n",
    "            self.state[:, i] = np.random.normal(self.mu[i], self.sigma[i], self.n)\n",
    "            self.state[:, i] = np.apply_along_axis(lambda x: np.round(x, 1), 0, self.state[:, i])\n",
    "        self.state = np.clip(self.state, -5, 5)"
   ]
  },
  {
   "cell_type": "code",
   "execution_count": 3,
   "id": "1cb378dc",
   "metadata": {},
   "outputs": [],
   "source": [
    "def func(*args):\n",
    "    return round(1 / ((np.array(args) ** 2).sum() + 1), 2)"
   ]
  },
  {
   "cell_type": "code",
   "execution_count": 11,
   "id": "3122b602",
   "metadata": {},
   "outputs": [
    {
     "name": "stdout",
     "output_type": "stream",
     "text": [
      "85.5 %\n"
     ]
    }
   ],
   "source": [
    "if __name__ == \"__main__\":\n",
    "    init_state = np.array([[-2.1, 4.1],\n",
    "              [1.0, -2.7],\n",
    "              [2.2, -0.2],\n",
    "              [-3.1, 1.1],\n",
    "             ])\n",
    "    num = 0\n",
    "    for i in range(1000):\n",
    "        g = GEDA(init_state, alpha=0.3)\n",
    "        for j in range(1000):\n",
    "            g.loop(func)\n",
    "        if np.max(np.apply_along_axis(func, 1, g.state)) >= 0.99:\n",
    "            num += 1 \n",
    "    print(f\"{num / 10} %\")"
   ]
  }
 ],
 "metadata": {
  "kernelspec": {
   "display_name": "Python 3 (ipykernel)",
   "language": "python",
   "name": "python3"
  },
  "language_info": {
   "codemirror_mode": {
    "name": "ipython",
    "version": 3
   },
   "file_extension": ".py",
   "mimetype": "text/x-python",
   "name": "python",
   "nbconvert_exporter": "python",
   "pygments_lexer": "ipython3",
   "version": "3.9.7"
  }
 },
 "nbformat": 4,
 "nbformat_minor": 5
}
